{
 "cells": [
  {
   "cell_type": "markdown",
   "metadata": {},
   "source": [
    "# khởi tạo agent"
   ]
  },
  {
   "cell_type": "code",
   "execution_count": null,
   "metadata": {},
   "outputs": [],
   "source": [
    "import anthropic\n",
    "import pandas as pd\n",
    "\n",
    "client = anthropic.Anthropic()\n",
    "history = [] # History story\n",
    "\n",
    "MODEL_NAME = \"claude-3-7-sonnet-20250219\""
   ]
  },
  {
   "cell_type": "markdown",
   "metadata": {},
   "source": [
    "# Định nghĩa hàm truy vấn"
   ]
  },
  {
   "cell_type": "code",
   "execution_count": null,
   "metadata": {},
   "outputs": [],
   "source": [
    "# 1. Hàm đọc CSV và tạo DataFrame\n",
    "def get_dataframe_revit(file_path):\n",
    "    try:\n",
    "        df = pd.read_csv(file_path, encoding='utf-8')\n",
    "        return df\n",
    "    except Exception as e:\n",
    "        print(f\"Error reading CSV file: {e}\")\n",
    "        return None\n",
    "\n",
    "# 2. Hàm lấy danh sách các cột trong DataFrame\n",
    "def get_all_columns(df: pd.DataFrame) -> str:\n",
    "    return \", \".join(str(item) for item in df.columns.tolist())\n",
    "\n",
    "# 3. Hàm lấy các giá trị duy nhất trong một cột\n",
    "def get_values_unique_in_column(df: pd.DataFrame, col: str) -> str:\n",
    "    return \", \".join(str(item) for item in df[col].unique().tolist())\n",
    "\n",
    "# \n",
    "def get_len_values_unique_in_column(df: pd.DataFrame, col: str) -> str:\n",
    "    return str(len(df[col].unique().tolist()))\n",
    "\n",
    "# 4. Hàm tìm kiếm giá trị trong cột\n",
    "def get_elements_in_column(df: pd.DataFrame, col_name: str, value_search: str) -> str:\n",
    "    category_column = [col for col in df.columns if col_name.lower() in col.lower()]\n",
    "    if not category_column:\n",
    "        return []\n",
    "    values = [v for v in df[category_column[0]] if value_search.lower() in v.lower()]\n",
    "    return \", \".join(str(item) for item in values)\n",
    "\n",
    "def get_quantity_elements_in_column(df: pd.DataFrame, col_name: str, value_search: str) -> str:\n",
    "    category_column = [col for col in df.columns if col_name.lower() in col.lower()]\n",
    "    if not category_column:\n",
    "        return []\n",
    "    values = [v for v in df[category_column[0]] if value_search.lower() in v.lower()]\n",
    "    return str( len(values) )\n",
    "\n",
    "def get_total_area_elements(df : pd.DataFrame, column : str, element : str ) -> str:\n",
    "  \"\"\"\n",
    "  Calculates the total area of elements whose Category contains \"element\" (case-insensitive).\n",
    "\n",
    "  Args:\n",
    "    data: A dictionary where keys are column names ('Column', 'Area')\n",
    "          and values are dictionaries mapping indices to the corresponding values.\n",
    "          Example:\n",
    "          {'Column': {0: 'Revit Walls', ...}, 'Area': {0: 6.658051200000002, ...}}\n",
    "\n",
    "  Returns:\n",
    "    The total area of elements with \"element\" in their category.\n",
    "  \"\"\"\n",
    "  total_area = 0\n",
    "  data = df[[column, 'Area']].dropna().reset_index(drop=True).to_dict()\n",
    "  categories = data.get(column, {})\n",
    "  areas = data.get('Area', {})\n",
    "\n",
    "  for index, category in categories.items():\n",
    "    if isinstance(category, str) and element.lower() in category.lower():\n",
    "      area = areas.get(index)\n",
    "      if isinstance(area, (int, float)):\n",
    "        total_area += area\n",
    "\n",
    "  return str(total_area)"
   ]
  },
  {
   "cell_type": "markdown",
   "metadata": {},
   "source": [
    "# Định nghĩa tools cho mô hình"
   ]
  },
  {
   "cell_type": "code",
   "execution_count": null,
   "metadata": {},
   "outputs": [],
   "source": [
    "# 5. Định nghĩa các tools cho Model.\n",
    "tools = [\n",
    "    {\n",
    "        \"name\": \"get_all_columns\",\n",
    "        \"description\": \"Returns all column names and the quantity of columns in the data, The column name may be external_id, ElementId, Name, Category, CategoryId, Workset, Edited by ...\",\n",
    "        \"input_schema\": {\n",
    "            \"type\": \"object\",\n",
    "            \"properties\": {\n",
    "                \"column_names\": {\n",
    "                    \"type\": \"string\",\n",
    "                    \"description\": \"Columns name may be: dbId, external_id, ElementId, Name, Category, CategoryId, Workset, Edited by...\"\n",
    "                }\n",
    "            },\n",
    "            \"required\": [\"column_names\"]\n",
    "        },\n",
    "    },\n",
    "    {\n",
    "        \"name\": \"get_values_unique_in_column\",\n",
    "        \"description\": \"The column name may be external_id, ElementId, Name, Category, CategoryId, Workset, Edited by ...\",\n",
    "        \"input_schema\": {\n",
    "            \"type\": \"object\",\n",
    "            \"properties\": {\n",
    "                \"column_name\": {\n",
    "                    \"type\": \"string\",\n",
    "                    \"description\": \"The column name may be external_id, ElementId, Name, Category, CategoryId, Workset, Edited by ...\"\n",
    "                },\n",
    "            },\n",
    "            \"required\": [\"column_name\"]\n",
    "        },\n",
    "    },\n",
    "    {\n",
    "        \"name\": \"get_len_values_unique_in_column\",\n",
    "        \"description\": \"The column name may be external_id, ElementId, Name, Category, CategoryId, Workset, Edited by ...\",\n",
    "        \"input_schema\": {\n",
    "            \"type\": \"object\",\n",
    "            \"properties\": {\n",
    "                \"column_name\": {\n",
    "                    \"type\": \"string\",\n",
    "                    \"description\": \"Quantity of the only values in the column\"\n",
    "                },\n",
    "            },\n",
    "            \"required\": [\"column_name\"]\n",
    "        },\n",
    "    },\n",
    "    {\n",
    "        'name' : 'get_elements_in_column',\n",
    "        'description' : '''Get all elements in the column containing the same elements as the input. Returns the list of all elements found, Question for example, take all the walls in the current data''',\n",
    "        'input_schema' : {\n",
    "            'type' : \"object\",\n",
    "            'properties' : {\n",
    "                'elements' : {\n",
    "                    'type' : 'string',\n",
    "                    'description': 'The search value, e.g. chairs, tables, windows, walls.',\n",
    "                },\n",
    "                'columns' : {\n",
    "                    'type' : 'string',\n",
    "                    \"enum\": [\"Category\", \"Name\", \"Family Name\", \"Class\"],\n",
    "                    'description' : \"The column names, e.g. Name, Category, Family Name, Workset, Class\"\n",
    "                },\n",
    "            },\n",
    "            'required' : ['elements']\n",
    "        }\n",
    "    },\n",
    "    {\n",
    "        'name' : 'get_quantity_elements_in_column',\n",
    "        'description' : '''Get all elements in the column containing the same elements as the input, Returns the number of all attributes found, Questions for example, How many walls in data? or How many seats in the current data?.''',\n",
    "        'input_schema' : {\n",
    "            'type' : \"object\",\n",
    "            'properties' : {\n",
    "                'elements' : {\n",
    "                    'type' : 'string',\n",
    "                    'description': 'The search value, e.g. walls, chairs, tables, windows.',\n",
    "                },\n",
    "                'columns' : {\n",
    "                    'type' : 'string',\n",
    "                    \"enum\": [\"Category\", \"Name\", \"Family Name\", \"Class\"],\n",
    "                    'description' : \"The column names classification, e.g. Category, Name, Family Name, Workset, Class\"\n",
    "                },\n",
    "            },\n",
    "            'required' : ['elements']\n",
    "        }\n",
    "    },\n",
    "    {\n",
    "        'name' : 'get_total_area_elements',\n",
    "        'description' : \n",
    "            \"\"\"\n",
    "                Calculates the total area of elements whose Category contains \"element\" (case-insensitive).\n",
    "\n",
    "                Args:\n",
    "                    data: A dictionary where keys are column names ('Column', 'Area')\n",
    "                        and values are dictionaries mapping indices to the corresponding values.\n",
    "                        Example:\n",
    "                        {'Column': {0: 'Revit Walls', ...}, 'Area': {0: 6.658051200000002, ...}}\n",
    "\n",
    "                Returns:\n",
    "                    The total area of elements with \"element\" in their category.\n",
    "            \"\"\"\n",
    "        ,'input_schema' : {\n",
    "            'type' : \"object\",\n",
    "            'properties' : {\n",
    "                'column' : {\n",
    "                    'type' : 'string'\n",
    "                    ,'enum' : ['Category', 'Family Name', 'Workset']\n",
    "                    ,'description': 'The column names, e.g. Category, Family Name, Workset.'\n",
    "                },\n",
    "                'element' : {\n",
    "                    'type' : 'string',\n",
    "                    'description' : \"The search value, e.g. Walls, Floor.\"\n",
    "                },\n",
    "            },\n",
    "            'required' : ['element']\n",
    "        }\n",
    "    }\n",
    "]"
   ]
  },
  {
   "cell_type": "markdown",
   "metadata": {},
   "source": [
    "# Gửi câu hỏi đến mô hình"
   ]
  },
  {
   "cell_type": "code",
   "execution_count": null,
   "metadata": {},
   "outputs": [],
   "source": [
    "# 6. Hàm gửi câu hỏi tới Model\n",
    "def get_response(question: str, df: pd.DataFrame):\n",
    "    # Nếu lịch sử rỗng, thêm context của DataFrame.\n",
    "\n",
    "    history.append({\"role\": \"user\", \"content\": question})\n",
    "    \n",
    "    return client.messages.create(\n",
    "        model=MODEL_NAME,\n",
    "        max_tokens=64+32+32,\n",
    "        tools=tools,\n",
    "        messages=history,    \n",
    "    )"
   ]
  },
  {
   "cell_type": "markdown",
   "metadata": {},
   "source": [
    "# Định nghĩa hàm thực thi"
   ]
  },
  {
   "cell_type": "code",
   "execution_count": null,
   "metadata": {},
   "outputs": [],
   "source": [
    "# 7. Hàm thực hiện công cụ dựa trên tên tool và đầu vào\n",
    "def execute_tool(tool_name, tool_input):\n",
    "    path = 'data.csv'\n",
    "    df = get_dataframe_revit(path)\n",
    "    print(f\"execute_tool: DataFrame loaded from path: {path}\")\n",
    "    \n",
    "    if tool_name == \"get_all_columns\":\n",
    "        return get_all_columns(df)\n",
    "    elif tool_name == \"get_values_unique_in_column\":\n",
    "        print(\"Tool input: \", tool_input)\n",
    "        return get_values_unique_in_column(df, tool_input['column_name'])\n",
    "    elif tool_name == \"get_len_values_unique_in_column\":\n",
    "        print(\"Tool input: \", tool_input)\n",
    "        return get_len_values_unique_in_column(df, tool_input['column_name'])\n",
    "    elif tool_name == 'get_elements_in_column':\n",
    "        print(\"Tool input: \", tool_input)\n",
    "        return get_elements_in_column(df, tool_input['columns'], tool_input['elements'] )\n",
    "    elif tool_name == 'get_quantity_elements_in_column':\n",
    "        print(\"Tool input: \", tool_input)\n",
    "        return get_quantity_elements_in_column(df, tool_input['columns'], tool_input['elements'])\n",
    "    elif tool_name == 'get_total_area_elements':\n",
    "        print(\"Tool input: \", tool_input)\n",
    "        return get_total_area_elements(df, tool_input['column'], tool_input['element'])\n",
    "    else:\n",
    "        raise ValueError(f\"Unknown tool: {tool_name}\")"
   ]
  },
  {
   "cell_type": "markdown",
   "metadata": {},
   "source": [
    "# Mô hình trả lời câu hỏi và lưu vào story"
   ]
  },
  {
   "cell_type": "code",
   "execution_count": null,
   "metadata": {},
   "outputs": [],
   "source": [
    "# 8. Hàm xử lý và in phản hồi từ model\n",
    "def execute_response(response: object):\n",
    "    print(\"*\" * 100)\n",
    "    print(response)\n",
    "    print(\"*\" * 100)\n",
    "    for tool in response.content:\n",
    "        if tool.type == \"text\":\n",
    "            print(\"Execute_response:\", tool.text)\n",
    "        elif tool.type == \"tool_use\":\n",
    "            tool_use = tool.name\n",
    "            print(f\"Tool used: {tool_use}\")\n",
    "            # Thực thi tool dựa trên tên và input đi kèm\n",
    "            res = execute_tool(tool_use, tool.input)\n",
    "            \n",
    "            print(f\"\\nTool output: {res}\")\n",
    "            history.append({'role': \"assistant\", 'content': f\"{response.content[0].text}, Result tool '{tool_use}': {res}\"})\n",
    "            return history[-1]['content']\n",
    "        print()\n",
    "    return ValueError(\"Lỗi rồi feen ơi !\")"
   ]
  },
  {
   "cell_type": "markdown",
   "metadata": {},
   "source": [
    "# Thực thi toàn bộ"
   ]
  },
  {
   "cell_type": "markdown",
   "metadata": {},
   "source": [
    "## có bao nhiêu tường trong dữ liệu"
   ]
  },
  {
   "cell_type": "code",
   "execution_count": 52,
   "metadata": {},
   "outputs": [
    {
     "name": "stdout",
     "output_type": "stream",
     "text": [
      "****************************************************************************************************\n",
      "Message(id='msg_0143KWnBy6qGqc28NS1y8jUP', content=[TextBlock(citations=None, text=\"I'll find out how many walls are in the data for you. Let me count them:\", type='text'), ToolUseBlock(id='toolu_01K4kszNB4E4NUmnTfzE63JX', input={'columns': 'Category', 'elements': 'Wall'}, name='get_quantity_elements_in_column', type='tool_use')], model='claude-3-7-sonnet-20250219', role='assistant', stop_reason='tool_use', stop_sequence=None, type='message', usage=Usage(cache_creation_input_tokens=0, cache_read_input_tokens=0, input_tokens=1489, output_tokens=96))\n",
      "****************************************************************************************************\n",
      "Execute_response: I'll find out how many walls are in the data for you. Let me count them:\n",
      "\n",
      "Tool used: get_quantity_elements_in_column\n",
      "execute_tool: DataFrame loaded from path: data.csv\n",
      "Tool input:  {'columns': 'Category', 'elements': 'Wall'}\n",
      "\n",
      "Tool output: 6\n",
      "I'll find out how many walls are in the data for you. Let me count them:, Result tool 'get_quantity_elements_in_column': 6\n"
     ]
    }
   ],
   "source": [
    "def rep(question : str) -> str:\n",
    "    df = pd.read_csv('data.csv')\n",
    "    initial_response = get_response(question, df)\n",
    "    # print(f\"Question: {question}\")\n",
    "    return execute_response(initial_response)\n",
    "\n",
    "question = \"How many wall in data\"\n",
    "print(rep(question))"
   ]
  },
  {
   "cell_type": "markdown",
   "metadata": {},
   "source": [
    "## Lấy tất cả tường trong dữ liệu"
   ]
  },
  {
   "cell_type": "code",
   "execution_count": null,
   "metadata": {},
   "outputs": [
    {
     "name": "stdout",
     "output_type": "stream",
     "text": [
      "****************************************************************************************************\n",
      "Message(id='msg_013MMW99WycvwJzCQMDQX3uT', content=[TextBlock(citations=None, text=\"I'll get all walls in the data for you. Let me retrieve that information:\", type='text'), ToolUseBlock(id='toolu_01RjoJ6msmmaTW89sVvUGApD', input={'columns': 'Category', 'elements': 'Wall'}, name='get_elements_in_column', type='tool_use')], model='claude-3-7-sonnet-20250219', role='assistant', stop_reason='tool_use', stop_sequence=None, type='message', usage=Usage(cache_creation_input_tokens=0, cache_read_input_tokens=0, input_tokens=1536, output_tokens=92))\n",
      "****************************************************************************************************\n",
      "Execute_response: I'll get all walls in the data for you. Let me retrieve that information:\n",
      "\n",
      "Tool used: get_elements_in_column\n",
      "execute_tool: DataFrame loaded from path: data.csv\n",
      "Tool input:  {'columns': 'Category', 'elements': 'Wall'}\n",
      "\n",
      "Tool output: Revit Walls, Revit Walls, Revit Walls, Revit Walls, Revit Walls, Revit Walls\n",
      "I'll get all walls in the data for you. Let me retrieve that information:, Result tool 'get_elements_in_column': Revit Walls, Revit Walls, Revit Walls, Revit Walls, Revit Walls, Revit Walls\n"
     ]
    }
   ],
   "source": [
    "question = \"Get all wall in data\"\n",
    "print(rep(question))"
   ]
  },
  {
   "cell_type": "markdown",
   "metadata": {},
   "source": [
    "## Tính tổng diện tích tường"
   ]
  },
  {
   "cell_type": "code",
   "execution_count": null,
   "metadata": {},
   "outputs": [
    {
     "name": "stdout",
     "output_type": "stream",
     "text": [
      "****************************************************************************************************\n",
      "Message(id='msg_01FKtr4oDc3duNVJpREeLUoj', content=[TextBlock(citations=None, text=\"I'll calculate the total wall area for you.\", type='text'), ToolUseBlock(id='toolu_01B4XTNjr1JC1vz7u2P4PziH', input={'element': 'Wall', 'column': 'Category'}, name='get_total_area_elements', type='tool_use')], model='claude-3-7-sonnet-20250219', role='assistant', stop_reason='tool_use', stop_sequence=None, type='message', usage=Usage(cache_creation_input_tokens=0, cache_read_input_tokens=0, input_tokens=1448, output_tokens=85))\n",
      "****************************************************************************************************\n",
      "Execute_response: I'll calculate the total wall area for you.\n",
      "\n",
      "Tool used: get_total_area_elements\n",
      "execute_tool: DataFrame loaded from path: data.csv\n",
      "Tool input:  {'element': 'Wall', 'column': 'Category'}\n",
      "\n",
      "Tool output: 34.12638336000004\n",
      "I'll calculate the total wall area for you., Result tool 'get_total_area_elements': 34.12638336000004\n"
     ]
    }
   ],
   "source": [
    "# question = \"Calculate the total area of the category containing the Wall attribute?\"\n",
    "question = \"Calculate the total wall area?\"\n",
    "\n",
    "print(rep(question))"
   ]
  },
  {
   "cell_type": "markdown",
   "metadata": {},
   "source": [
    "## Tính tổng diện tích tường trong Family Name"
   ]
  },
  {
   "cell_type": "code",
   "execution_count": 54,
   "metadata": {},
   "outputs": [
    {
     "name": "stdout",
     "output_type": "stream",
     "text": [
      "****************************************************************************************************\n",
      "Message(id='msg_01Y8gUoPZBMpz4oJ5v1iKfAW', content=[TextBlock(citations=None, text='I\\'ll calculate the total wall area using the \"Family Name\" column as the filter parameter. Let me do that for you:', type='text'), ToolUseBlock(id='toolu_01MbqHL98GGGBnNSLaCzAnwS', input={'column': 'Family Name', 'element': 'Wall'}, name='get_total_area_elements', type='tool_use')], model='claude-3-7-sonnet-20250219', role='assistant', stop_reason='tool_use', stop_sequence=None, type='message', usage=Usage(cache_creation_input_tokens=0, cache_read_input_tokens=0, input_tokens=1615, output_tokens=102))\n",
      "****************************************************************************************************\n",
      "Execute_response: I'll calculate the total wall area using the \"Family Name\" column as the filter parameter. Let me do that for you:\n",
      "\n",
      "Tool used: get_total_area_elements\n",
      "execute_tool: DataFrame loaded from path: data.csv\n",
      "Tool input:  {'column': 'Family Name', 'element': 'Wall'}\n",
      "\n",
      "Tool output: 34.12638336000004\n",
      "I'll calculate the total wall area using the \"Family Name\" column as the filter parameter. Let me do that for you:, Result tool 'get_total_area_elements': 34.12638336000004\n"
     ]
    }
   ],
   "source": [
    "question = \"Calculate the total wall area in Family Name\"\n",
    "print(rep(question))"
   ]
  },
  {
   "cell_type": "markdown",
   "metadata": {},
   "source": [
    "# Có bao nhiêu Class trong dữ liệu"
   ]
  },
  {
   "cell_type": "code",
   "execution_count": 55,
   "metadata": {},
   "outputs": [
    {
     "name": "stdout",
     "output_type": "stream",
     "text": [
      "****************************************************************************************************\n",
      "Message(id='msg_01JyDpAvsJXeNZvcAJ6vpxiZ', content=[TextBlock(citations=None, text=\"I'll check how many unique classes are in the data for you. Let me retrieve that information:\", type='text'), ToolUseBlock(id='toolu_01Q45esXZrNhe7T3k7XSqjSN', input={'column_name': 'Class'}, name='get_len_values_unique_in_column', type='tool_use')], model='claude-3-7-sonnet-20250219', role='assistant', stop_reason='tool_use', stop_sequence=None, type='message', usage=Usage(cache_creation_input_tokens=0, cache_read_input_tokens=0, input_tokens=1674, output_tokens=84))\n",
      "****************************************************************************************************\n",
      "Execute_response: I'll check how many unique classes are in the data for you. Let me retrieve that information:\n",
      "\n",
      "Tool used: get_len_values_unique_in_column\n",
      "execute_tool: DataFrame loaded from path: data.csv\n",
      "Tool input:  {'column_name': 'Class'}\n",
      "\n",
      "Tool output: 8\n",
      "I'll check how many unique classes are in the data for you. Let me retrieve that information:, Result tool 'get_len_values_unique_in_column': 8\n"
     ]
    }
   ],
   "source": [
    "question = \"How many class in data ?\"\n",
    "print(rep(question))"
   ]
  },
  {
   "cell_type": "code",
   "execution_count": 46,
   "metadata": {},
   "outputs": [
    {
     "data": {
      "text/plain": [
       "Message(id='msg_01HtkWFrS8L6GgDsdoX2wvCm', content=[TextBlock(citations=None, text='I need to calculate the total area for categories containing \"Wall\". I\\'ll use the available function to find this information.', type='text'), ToolUseBlock(id='toolu_016u8QysUPTBMRWHiAoqUHJR', input={'column': 'Category', 'element': 'Wall'}, name='get_total_area_elements', type='tool_use')], model='claude-3-7-sonnet-20250219', role='assistant', stop_reason='tool_use', stop_sequence=None, type='message', usage=Usage(cache_creation_input_tokens=0, cache_read_input_tokens=0, input_tokens=579, output_tokens=99))"
      ]
     },
     "execution_count": 46,
     "metadata": {},
     "output_type": "execute_result"
    }
   ],
   "source": [
    "tools = [\n",
    "    {\n",
    "        'name' : 'get_total_area_elements',\n",
    "        'description' : \n",
    "            \"\"\"\n",
    "                Calculates the total area of elements whose Category contains \"element\" (case-insensitive).\n",
    "\n",
    "                Args:\n",
    "                    data: A dictionary where keys are column names ('Column', 'Area')\n",
    "                        and values are dictionaries mapping indices to the corresponding values.\n",
    "                        Example:\n",
    "                        {'Column': {0: 'Revit Walls', ...}, 'Area': {0: 6.658051200000002, ...}}\n",
    "\n",
    "                Returns:\n",
    "                    The total area of elements with \"element\" in their category.\n",
    "            \"\"\"\n",
    "        ,'input_schema' : {\n",
    "            'type' : \"object\",\n",
    "            'properties' : {\n",
    "                'column' : {\n",
    "                    'type' : 'string'\n",
    "                    ,'enum' : ['Category', 'Family Name', 'Workset']\n",
    "                    ,'description': 'The column names, e.g. Category, Family Name, Workset.'\n",
    "                },\n",
    "                'element' : {\n",
    "                    'type' : 'string',\n",
    "                    'description' : \"The search value, e.g. Walls, Floor.\"\n",
    "                },\n",
    "            },\n",
    "            'required' : ['element']\n",
    "        }\n",
    "    }\n",
    "]\n",
    "\n",
    "client.messages.create(\n",
    "        model=MODEL_NAME,\n",
    "        max_tokens=100,\n",
    "        tools=tools,\n",
    "        messages=[{'role' : 'user', 'content' : \"Calculate the total area of the category containing the Wall attribute?\"}]    \n",
    "    )"
   ]
  },
  {
   "cell_type": "code",
   "execution_count": 44,
   "metadata": {},
   "outputs": [
    {
     "data": {
      "text/plain": [
       "{'Family Name': {0: 'Basic Wall',\n",
       "  1: 'Basic Wall',\n",
       "  2: 'Basic Wall',\n",
       "  3: 'Basic Wall',\n",
       "  4: 'Basic Wall',\n",
       "  5: 'Basic Wall',\n",
       "  6: 'Floor'},\n",
       " 'Area': {0: 6.658051200000002,\n",
       "  1: 4.7225712,\n",
       "  2: 1.4709648000000022,\n",
       "  3: 4.7225712,\n",
       "  4: 7.107082560000035,\n",
       "  5: 9.4451424,\n",
       "  6: 10.071592760000014}}"
      ]
     },
     "execution_count": 44,
     "metadata": {},
     "output_type": "execute_result"
    }
   ],
   "source": [
    "df[['Family Name', 'Area']].dropna().reset_index(drop=True).to_dict()"
   ]
  },
  {
   "cell_type": "code",
   "execution_count": null,
   "metadata": {},
   "outputs": [],
   "source": []
  },
  {
   "cell_type": "code",
   "execution_count": 42,
   "metadata": {},
   "outputs": [
    {
     "data": {
      "text/plain": [
       "0"
      ]
     },
     "execution_count": 42,
     "metadata": {},
     "output_type": "execute_result"
    }
   ],
   "source": [
    "df = pd.read_csv('data.csv', encoding='utf-8')\n",
    "def get_total_area_elements(df : pd.DataFrame, column : str, element : str ) -> str:\n",
    "  \"\"\"\n",
    "  Calculates the total area of elements whose Category contains \"element\" (case-insensitive).\n",
    "\n",
    "  Args:\n",
    "    data: A dictionary where keys are column names ('Column', 'Area')\n",
    "          and values are dictionaries mapping indices to the corresponding values.\n",
    "          Example:\n",
    "          {'Column': {0: 'Revit Walls', ...}, 'Area': {0: 6.658051200000002, ...}}\n",
    "\n",
    "  Returns:\n",
    "    The total area of elements with \"element\" in their category.\n",
    "  \"\"\"\n",
    "  total_area = 0\n",
    "  data = df[[column, 'Area']].dropna().reset_index(drop=True).to_dict()\n",
    "  categories = data.get(column, {})\n",
    "  areas = data.get('Area', {})\n",
    "\n",
    "  for index, category in categories.items():\n",
    "    if isinstance(category, str) and element.lower() in category.lower():\n",
    "      area = areas.get(index)\n",
    "      if isinstance(area, (int, float)):\n",
    "        total_area += area\n",
    "\n",
    "  return total_area\n",
    "\n",
    "get_total_area_elements(df, column='Class', element='room')"
   ]
  },
  {
   "cell_type": "code",
   "execution_count": null,
   "metadata": {},
   "outputs": [
    {
     "name": "stdout",
     "output_type": "stream",
     "text": [
      "Can search for that information in the \"Category\" column Or you can get information in the \"Family Name\", \"Name\", \"Class column\", ...\n",
      "      \n",
      "which would typically identify elements like walls, window, .... \n"
     ]
    }
   ],
   "source": [
    "print('''Can search for that information in the \"Category\" column Or you can get information in the \"Family Name\", \"Name\", \"Class column\", ...\n",
    "      \\nWhich would typically identify elements like walls, window, .... ''')"
   ]
  },
  {
   "cell_type": "code",
   "execution_count": 9,
   "metadata": {},
   "outputs": [
    {
     "name": "stdout",
     "output_type": "stream",
     "text": [
      "I'll help you retrieve all columns in the data and their classification information. Let me fetch that for you.\n",
      "Result tool get_all_columns: Unnamed: 0, dbId, external_id, ElementId, Name, Category, CategoryId, Workset, Edited by, Image, Keynote, Export to IFC, Export to IFC As, IFC Predefined Type, IfcGUID, Model, Manufacturer, Comments, URL, Description, Cost, Mark, Color, Transparency, Glow, Smoothness, Shininess, Material Type, Class, Subclass, Behavior, Young modulus X, Young modulus Y, Young modulus Z, Poisson ratio X, Poisson ratio Y, Poisson ratio Z, Shear modulus X, Shear modulus Y, Shear modulus Z, Thermal expansion coefficient X, Thermal expansion coefficient Y, Thermal expansion coefficient Z, Unit weight, Minimum yield stress, Minimum tensile strength, Thermally Treated, Reduction factor for shear, Concrete compression, Lightweight, Shear strength modification, Young modulus, Poisson ratio, Shear modulus, Thermal expansion coefficient, Species, Grade, Bending, Compression parallel to grain, Compression perpendicular to grain, Shear parallel to grain, Tension perpendicular to grain, Type Name, View Template applied to new views, New views are dependent on template, Elevation Tag, Callout Tag, Reference Label, hyperlink, View Template, View Name, Dependency, Title on Sheet, View Scale, Scale Value    1:, Display Model, Detail Level, Parts Visibility, Referencing Sheet, Referencing Detail, Crop View, Crop Region Visible, Annotation Crop, Visibility/Graphics Overrides, Graphic Display Options, Far Clipping, Far Clip Offset, Hide at scales coarser than, Phase Filter, Phase, Scope Box, Discipline, Show Hidden Lines, Color Scheme Location, Color Scheme, Default Analysis Display Style, Associated Datum, Sun Path, Detail Number, Sheet Number, Sheet Name, Rotation on Sheet, V/G Overrides Model, V/G Overrides Annotation, V/G Overrides Analytical Model, V/G Overrides Import, V/G Overrides Filters, V/G Overrides Worksets, V/G Overrides Point Clouds, Model Display, Shadows, Sketchy Lines, Lighting, Photographic Exposure, Underlay Orientation, View Range, Orientation, System Color Schemes, Depth Clipping, Depth Cueing, Background, Rendering Settings, View, Viewport Positioning, Range: Base Level, Range: Top Level, Associated Level, Wall Join Display, Title, Show Title, Show Extension Line, Preserve Title Position, Line Weight, Line Pattern, Work Plane Grid Spacing, Revision Sequence, Revision Number, Revision Date, Revision Description, Issued, Issued to, Issued by, Numbering, Organization Name, Organization Description, Building Name, Author, IfcSite GUID, IfcBuilding GUID, IfcProject GUID, Project Issue Date, Project Status, Client Name, Project Address, Project Name, Project Number, Route Analysis Settings, Scale, Date/Time Stamp, Sheet Issue Date, Drawn By, Checked By, Designed By, Approved By, Sheet Width, Sheet Height, File Path, Room Name, Room Number, Sun path size (%), Level, Moves With Nearby Elements, Detail Line, Length, Arc Leaders, Left Attachment, Right Attachment, Horizontal Align, Vertical Align, Keep Readable, Text Font, Text Size, Tab Size, Bold, Italic, Underline, Width Factor, Show Border, Leader/Border Offset, Leader Arrowhead, Service Type, Coil Bypass, Cooling Information, Heating Information, Outdoor Air Information, Calculated Heating Load, Calculated Heating Load per area, Calculated Area per Heating Load, Calculated Cooling Load, Calculated Cooling Load per area, Calculated Area per Cooling Load, Calculated Supply Airflow, Calculated Supply Airflow per area, Occupied Area, Gross Area, Occupied Volume, Gross Volume, Perimeter, Area per Person, Sensible Heat Gain per person, Latent Heat Gain per person, Specified Lighting Load per area, Specified Power Load per area, Infiltration Airflow per area, Plenum Lighting Contribution, Occupancy Schedule, Lighting Schedule, Power Schedule, Outdoor Air per Person, Outdoor Air per Area, Air Changes per Hour, Outdoor Air Method, Opening Time, Closing Time, Unoccupied Cooling Set Point, Heating Set Point, Cooling Set Point, Humidification Set Point, Dehumidification Set Point, N/S, E/W, Elev, Lat, Lon, Angle to True North, Far Clip Active, Locked Orientation, Projection Mode, Eye Elevation, Target Elevation, Camera Position, Section Box, Show Grids, Coarse Poche Material, Property Set Name, Keywords, Source URL, Source, External Material ID, Sharing, Asset library id, Density, Specific Heat, Thermal Conductivity Z, Thermal Conductivity Y, Thermal Conductivity X, Thermal Conductivity, Thermal Expansion Coefficient 2, Thermal Expansion Coefficient 1, Shear Modulus 12, Poisson Ratio 23, Poisson Ratio 12, Young's Modulus 2, Young's Modulus 1, Resistance calculation strength, Shear reinforcement yield stress, Bending reinforcement, Electrical Resistivity, Reflectivity, Porosity, Permeability, Transmits Light, Emissivity, Construction, 5% Modulus of Elasticity, Average Modulus, Tension Perpendicular to Grain, Tension Parallel to Grain, Compressibility, Gas Viscosity, Segment Description, Connection Type, Roughness, Material, Schedule/Type, Fields, Sorting/Grouping, Formatting, Appearance, Filter, Phase Created, Phase Demolished, Elevation from Level, Host, Offset from Host, Armrest Left, Armrest Right, Type IFC Predefined Type, Export Type to IFC As, Export Type to IFC, Type IfcGUID, Default Elevation, Seat Material, Legs Material, Frame Material, Back Material, Width, Weight, Height, Depth, Content Author, Assembly Code, Type Image, Type Comments, Assembly Description, Type Mark, OmniClass Number, OmniClass Title, Code Name, deka, konstrukcija, noge, plahta, duzina, sirina, Structural, Structural Usage, Location Line, Base Constraint, Base Offset, Base is Attached, Base Extension Distance, Top Constraint, Unconnected Height, Top Offset, Top is Attached, Top Extension Distance, Room Bounding, Related to Mass, Area, Volume, Cross-Section, Structure, Coarse Scale Fill Pattern, Coarse Scale Fill Color, Wrapping at Inserts, Wrapping at Ends, Structural Material, Fire Rating, Function, Heat Transfer Coefficient (U), Thermal Resistance (R), Thermal Mass, Absorptance, Sill Height, Finish, Frame Type, Head Height, Define Thermal Properties by, Visual Light Transmittance, Solar Heat Gain Coefficient, Analytic Construction, Operation, Door Material, Wall Closure, Construction Type, Thickness, Trim Projection Ext, Trim Projection Int, Trim Width, Rough Width, Rough Height, Location, Panel, Circuit Number, Weight Net (Kg), Region South America, Region Oceania, Region North America, Region Middle East, Region Europe, Region Asia, Region Antarctica, Region Africa, QR code, Product group, Product family, Product SKU, Nominal width, Nominal height, Manufacturer name, Manufacturer country, Edition number, Design country, Date of publishing, Uniclass 2.0 Description, Uniclass 2.0 Code, Uniclass 1.4 Description, Uniclass 1.4 Code, UNSPSC Code, OmniClass Description, OmniClass Code, NBS Reference Description, NBS Reference Code, IFC Classification, COBIe Type Category, BIMobject category, Material secondary, Material main, Youtube clip, Technical description, Product data url, Product certification, Product Guid, Installation instructions, EAN code, Weight_IP, Watts2, Watts1, Unit_Issue, UTIL_6_Misc, UTIL_5_NonMedGas, UTIL_4_MiscGas, UTIL_3_MedGas, UTIL_2_Elec, UTIL_1_WaterDrain, Top Panel Material, Toe Panel Material, Side Panel Material, Shelf Panel Material, Nomenclature, NSN, JSN, Fund_Source_VA, Fund_Source_Navy, Fund_Source_Army, Fund_Source_AF, ELEC_Volts2, ELEC_Volts1, ELEC_Phase2, ELEC_Phase1, ELEC_HertzSwitch, ELEC_HertzDependent, ELEC_Hertz, ELEC_Amps2, ELEC_Amps1, Drawer Front Material, Door Panel Material, DetailDescription, DIM_Width_IP, DIM_Height_IP, DIM_Depth_IP, CAT_VA, CAT_Navy, CAT_IHS, CAT_Army, CAT_AF, Back Panel Material, BTUperhour, Left Back Pipe Gate, Left Pipe Gate, Right Back Pipe Gate, Right Pipe Gate, Power, Critical Path, Schedule Level, Drain Pipe Fixture Units, Gas Pipe Flow, Liquid Pipe Flow, System Classification, System Name, Function Code, Right Bottom Pipe Gate, IFCExportAs, IFCExportType, Frequency, Voltage, Cooling Capacity (kW), Heating Capacity (kW), Cooling Input Power (kW), Heating Input Power (kW), Airflow rate_HIGH_Cooling (m3/h), Airflow rate_MED_Cooling (m3/h), Airflow rate_LOW_Cooling (m3/h), Airflow rate_QUIET_Cooling (m3/h), Airflow rate_HIGH_Heating (m3/h), Airflow rate_MED_Heating (m3/h), Airflow rate_LOW_Heating (m3/h), Airflow rate_QUIET_Heating (m3/h), Sound Pressure Level_HIGH_Cooling (dB(A)), Sound Pressure Level_MED_Cooling (dB(A)), Sound Pressure Level_LOW_Cooling (dB(A)), Sound Pressure Level_QUIET_Cooling (dB(A)), Sound Pressure Level_HIGH_Heating (dB(A)), Sound Pressure Level_MED_Heating (dB(A)), Sound Pressure Level_LOW_Heating (dB(A)), Sound Pressure Level_QUIET_Heating (dB(A)), Cooling Sound Power Level (dB(A)), Heating Sound Power Level (dB(A)), Classification, White, Depth (mm), Height (mm), Width (mm), Liquid Pipe Diameter (mm), Gas Pipe Diameter (mm), Drain Pipe Diamater (mm), Article Description, Article Type, CB-NL Class, Copyright, Custom, EMCS Version, ETIM Article Class, Family Version, GLN, GTIN, Internal Art. No., MEPcontent Class, Manufacturer Art. No., Manufacturer URL, Product Line, Revit Version, Stabu Code, Wholesaler, Wholesaler Art. No., Unit Weight (kg), Height Offset From Level, Has Association, Slope, Elevation at Top, Elevation at Bottom, Default Thickness, Defines Slope, Defines Constant Height, Offset From Base, Concrete Cantilever, Steel Cantilever, Alignment Method, In-Plane Projection, Manually Adjusted, Wall offset, Extend into wall (to core), Exterior Trim Visibility, Interior Trim Visibility, Extension Jamb Visibility, Window Inset, Exterior Wall Closure, Interior Wall Closure, Extension Jamb, Wall Thickness, Frame Extension, Host Family, Exterior Frame Material, Interior Frame Material, Exterior Trim Material, Interior Trim Material, Glass Panel Material, Muntin Visibility, Muntin Pattern, Exterior Trim, Interior Trim, Default Sill Height, Half Width, Exterior Material, Interior Material, Sub Family, Distance, Trim Material, Opening Width, Opening Height, Picture Frame, Sill, Trim Thickness_Picture Frame, Trim Thickness_with Sill, Sill Thickness, Number, Upper Limit, Limit Offset, Unbounded Height, Occupancy, Department, Base Finish, Ceiling Finish, Wall Finish, Floor Finish, Occupant, Computation Height, Leader Line, Angle, Show Volume, Show Room Number, Show Area, Electrical Data, Calculate Coefficient of Utilization, Coefficient of Utilization, Switch ID, Tilt Angle, Photometric Web File, Light Loss Factor, Initial Intensity, Initial Color, Dimming Lamp Color Temperature Shift, Color Filter, Light Source Definition (family), Load Classification, Number of Poles, Lamp, Wattage Comments, Apparent Load, Base Material, Shade Material, Feed Through Lugs, SubFeed Lugs, MCB Rating, Feed, Circuit Naming, Circuit Prefix Separator, Circuit Prefix, Modifications, Mains, Short Circuit Rating, Max Number of Single Pole Breakers, Distribution System, Supply From, Number of Wires, Number of Phases, Circuit Numbering Option, Enclosure, Mounting, Panel Name, Total Connected, Total Estimated Demand, Total Demand Factor, Total Connected Current, Total Estimated Demand Current, Apparent Load Phase A, Apparent Load Phase B, Apparent Load Phase C, Current Phase A, Current Phase B, Current Phase C, Schedule Header Notes, Schedule Footer Notes, Neutral Rating, Neutral Bus, Ground Bus, Bussing, Mains Type, Wattage, Mounting Height, Placement Height, Family Name\n"
     ]
    }
   ],
   "source": [
    "print(history[-1]['content'])"
   ]
  },
  {
   "cell_type": "code",
   "execution_count": 17,
   "metadata": {},
   "outputs": [
    {
     "name": "stdout",
     "output_type": "stream",
     "text": [
      "Question: classification columns and search columns for work calculate area the walls\n",
      "****************************************************************************************************\n",
      "Message(id='msg_01GQneGgd7j9WJ32kftPMU16', content=[TextBlock(citations=None, text=\"I'll help you identify classification columns and look for information about wall area calculations. Let me break this down more clearly.\\n\\nFirst, let me check what the main classification columns are in the data:\", type='text'), ToolUseBlock(id='toolu_01PgAZAgA7dnARxXu3G1cRg1', input={'column_name': 'Category'}, name='get_values_unique_in_column', type='tool_use')], model='claude-3-7-sonnet-20250219', role='assistant', stop_reason='tool_use', stop_sequence=None, type='message', usage=Usage(cache_creation_input_tokens=0, cache_read_input_tokens=0, input_tokens=7787, output_tokens=102))\n",
      "****************************************************************************************************\n",
      "Execute_response: I'll help you identify classification columns and look for information about wall area calculations. Let me break this down more clearly.\n",
      "\n",
      "First, let me check what the main classification columns are in the data:\n",
      "\n",
      "Tool used: get_values_unique_in_column\n",
      "execute_tool: DataFrame loaded from path: data.csv\n",
      "Tool input:  {'column_name': 'Category'}\n",
      "\n",
      "Tool output: Revit Phases, Revit Materials, Revit Primary Contours, Revit Area Schemes, Revit Elevations, Revit Views, Revit Viewports, Revit Shared Site, Revit Work Plane Grid, Revit Revision, Revit Project Information, Revit Structural Load Cases, Revit Title Blocks, Revit Sun Path, Revit <Area Boundary>, Revit Text Notes, Revit Internal Origin, Revit Color Fill Schema, Revit HVAC Zones, Revit HVAC Load Schedules, Revit Building Type Settings, Revit Space Type Settings, Revit Survey Point, Revit Project Base Point, Revit Electrical Demand Factor Definitions, Revit Electrical Load Classifications, Revit Panel Schedule Templates - Branch Panel, Revit Panel Schedule Templates - Data Panel, Revit Panel Schedule Templates - Switchboard, Revit Cameras, Revit Section Boxes, Revit Electrical Load Classification Parameter Element, Revit Material Assets, Revit Pipe Segments, Revit Legend Components, Revit Revision Numbering Sequences, Revit Schedules, Revit , Revit Schedule Graphics, Revit Point Clouds, Revit Furniture, Revit Walls, Revit Doors, Revit Specialty Equipment, Revit Mechanical Equipment, Revit Floors, Revit <Sketch>, Revit Windows, Revit Generic Models, Revit Rooms, Revit Room Tags, Revit Lighting Fixtures, Revit Electrical Equipment, Revit Electrical Fixtures\n",
      "I'll help you identify classification columns and look for information about wall area calculations. Let me break this down more clearly.\n",
      "\n",
      "First, let me check what the main classification columns are in the data:, Result tool 'get_values_unique_in_column': Revit Phases, Revit Materials, Revit Primary Contours, Revit Area Schemes, Revit Elevations, Revit Views, Revit Viewports, Revit Shared Site, Revit Work Plane Grid, Revit Revision, Revit Project Information, Revit Structural Load Cases, Revit Title Blocks, Revit Sun Path, Revit <Area Boundary>, Revit Text Notes, Revit Internal Origin, Revit Color Fill Schema, Revit HVAC Zones, Revit HVAC Load Schedules, Revit Building Type Settings, Revit Space Type Settings, Revit Survey Point, Revit Project Base Point, Revit Electrical Demand Factor Definitions, Revit Electrical Load Classifications, Revit Panel Schedule Templates - Branch Panel, Revit Panel Schedule Templates - Data Panel, Revit Panel Schedule Templates - Switchboard, Revit Cameras, Revit Section Boxes, Revit Electrical Load Classification Parameter Element, Revit Material Assets, Revit Pipe Segments, Revit Legend Components, Revit Revision Numbering Sequences, Revit Schedules, Revit , Revit Schedule Graphics, Revit Point Clouds, Revit Furniture, Revit Walls, Revit Doors, Revit Specialty Equipment, Revit Mechanical Equipment, Revit Floors, Revit <Sketch>, Revit Windows, Revit Generic Models, Revit Rooms, Revit Room Tags, Revit Lighting Fixtures, Revit Electrical Equipment, Revit Electrical Fixtures\n"
     ]
    }
   ],
   "source": [
    "df = pd.read_csv('data.csv')\n",
    "question = \"classification columns and search columns for work calculate area the walls\"\n",
    "initial_response = get_response(question, df)\n",
    "print(f\"Question: {question}\")\n",
    "print(execute_response(initial_response))"
   ]
  },
  {
   "cell_type": "code",
   "execution_count": 88,
   "metadata": {},
   "outputs": [
    {
     "data": {
      "text/plain": [
       "[{'role': 'user', 'content': 'How many walls in data?'},\n",
       " {'role': 'assistant',\n",
       "  'content': \"I'll help you find out how many walls are in the data. Let me check that information for you.\\nResult tool get_quantity_elements_in_column: 6\"},\n",
       " {'role': 'user', 'content': 'How many Family Name in data'},\n",
       " {'role': 'assistant',\n",
       "  'content': \"I'll help you find out how many unique Family Names are in the data. Let me check that information for you.\\nResult tool get_len_values_unique_in_column: 507\"},\n",
       " {'role': 'user', 'content': 'What is my previous question?'},\n",
       " {'role': 'user', 'content': 'How many walls in data'},\n",
       " {'role': 'user', 'content': 'Get all columns in data and classification '},\n",
       " {'role': 'assistant',\n",
       "  'content': 'Your previous question was: \"How many walls in data?\"\\n\\nTo answer your current request about getting all columns in the data and their classification, I\\'ll retrieve all the column names for you.\\nResult tool get_all_columns: Unnamed: 0, dbId, external_id, ElementId, Name, Category, CategoryId, Workset, Edited by, Image, Keynote, Export to IFC, Export to IFC As, IFC Predefined Type, IfcGUID, Model, Manufacturer, Comments, URL, Description, Cost, Mark, Color, Transparency, Glow, Smoothness, Shininess, Material Type, Class, Subclass, Behavior, Young modulus X, Young modulus Y, Young modulus Z, Poisson ratio X, Poisson ratio Y, Poisson ratio Z, Shear modulus X, Shear modulus Y, Shear modulus Z, Thermal expansion coefficient X, Thermal expansion coefficient Y, Thermal expansion coefficient Z, Unit weight, Minimum yield stress, Minimum tensile strength, Thermally Treated, Reduction factor for shear, Concrete compression, Lightweight, Shear strength modification, Young modulus, Poisson ratio, Shear modulus, Thermal expansion coefficient, Species, Grade, Bending, Compression parallel to grain, Compression perpendicular to grain, Shear parallel to grain, Tension perpendicular to grain, Type Name, View Template applied to new views, New views are dependent on template, Elevation Tag, Callout Tag, Reference Label, hyperlink, View Template, View Name, Dependency, Title on Sheet, View Scale, Scale Value    1:, Display Model, Detail Level, Parts Visibility, Referencing Sheet, Referencing Detail, Crop View, Crop Region Visible, Annotation Crop, Visibility/Graphics Overrides, Graphic Display Options, Far Clipping, Far Clip Offset, Hide at scales coarser than, Phase Filter, Phase, Scope Box, Discipline, Show Hidden Lines, Color Scheme Location, Color Scheme, Default Analysis Display Style, Associated Datum, Sun Path, Detail Number, Sheet Number, Sheet Name, Rotation on Sheet, V/G Overrides Model, V/G Overrides Annotation, V/G Overrides Analytical Model, V/G Overrides Import, V/G Overrides Filters, V/G Overrides Worksets, V/G Overrides Point Clouds, Model Display, Shadows, Sketchy Lines, Lighting, Photographic Exposure, Underlay Orientation, View Range, Orientation, System Color Schemes, Depth Clipping, Depth Cueing, Background, Rendering Settings, View, Viewport Positioning, Range: Base Level, Range: Top Level, Associated Level, Wall Join Display, Title, Show Title, Show Extension Line, Preserve Title Position, Line Weight, Line Pattern, Work Plane Grid Spacing, Revision Sequence, Revision Number, Revision Date, Revision Description, Issued, Issued to, Issued by, Numbering, Organization Name, Organization Description, Building Name, Author, IfcSite GUID, IfcBuilding GUID, IfcProject GUID, Project Issue Date, Project Status, Client Name, Project Address, Project Name, Project Number, Route Analysis Settings, Scale, Date/Time Stamp, Sheet Issue Date, Drawn By, Checked By, Designed By, Approved By, Sheet Width, Sheet Height, File Path, Room Name, Room Number, Sun path size (%), Level, Moves With Nearby Elements, Detail Line, Length, Arc Leaders, Left Attachment, Right Attachment, Horizontal Align, Vertical Align, Keep Readable, Text Font, Text Size, Tab Size, Bold, Italic, Underline, Width Factor, Show Border, Leader/Border Offset, Leader Arrowhead, Service Type, Coil Bypass, Cooling Information, Heating Information, Outdoor Air Information, Calculated Heating Load, Calculated Heating Load per area, Calculated Area per Heating Load, Calculated Cooling Load, Calculated Cooling Load per area, Calculated Area per Cooling Load, Calculated Supply Airflow, Calculated Supply Airflow per area, Occupied Area, Gross Area, Occupied Volume, Gross Volume, Perimeter, Area per Person, Sensible Heat Gain per person, Latent Heat Gain per person, Specified Lighting Load per area, Specified Power Load per area, Infiltration Airflow per area, Plenum Lighting Contribution, Occupancy Schedule, Lighting Schedule, Power Schedule, Outdoor Air per Person, Outdoor Air per Area, Air Changes per Hour, Outdoor Air Method, Opening Time, Closing Time, Unoccupied Cooling Set Point, Heating Set Point, Cooling Set Point, Humidification Set Point, Dehumidification Set Point, N/S, E/W, Elev, Lat, Lon, Angle to True North, Far Clip Active, Locked Orientation, Projection Mode, Eye Elevation, Target Elevation, Camera Position, Section Box, Show Grids, Coarse Poche Material, Property Set Name, Keywords, Source URL, Source, External Material ID, Sharing, Asset library id, Density, Specific Heat, Thermal Conductivity Z, Thermal Conductivity Y, Thermal Conductivity X, Thermal Conductivity, Thermal Expansion Coefficient 2, Thermal Expansion Coefficient 1, Shear Modulus 12, Poisson Ratio 23, Poisson Ratio 12, Young\\'s Modulus 2, Young\\'s Modulus 1, Resistance calculation strength, Shear reinforcement yield stress, Bending reinforcement, Electrical Resistivity, Reflectivity, Porosity, Permeability, Transmits Light, Emissivity, Construction, 5% Modulus of Elasticity, Average Modulus, Tension Perpendicular to Grain, Tension Parallel to Grain, Compressibility, Gas Viscosity, Segment Description, Connection Type, Roughness, Material, Schedule/Type, Fields, Sorting/Grouping, Formatting, Appearance, Filter, Phase Created, Phase Demolished, Elevation from Level, Host, Offset from Host, Armrest Left, Armrest Right, Type IFC Predefined Type, Export Type to IFC As, Export Type to IFC, Type IfcGUID, Default Elevation, Seat Material, Legs Material, Frame Material, Back Material, Width, Weight, Height, Depth, Content Author, Assembly Code, Type Image, Type Comments, Assembly Description, Type Mark, OmniClass Number, OmniClass Title, Code Name, deka, konstrukcija, noge, plahta, duzina, sirina, Structural, Structural Usage, Location Line, Base Constraint, Base Offset, Base is Attached, Base Extension Distance, Top Constraint, Unconnected Height, Top Offset, Top is Attached, Top Extension Distance, Room Bounding, Related to Mass, Area, Volume, Cross-Section, Structure, Coarse Scale Fill Pattern, Coarse Scale Fill Color, Wrapping at Inserts, Wrapping at Ends, Structural Material, Fire Rating, Function, Heat Transfer Coefficient (U), Thermal Resistance (R), Thermal Mass, Absorptance, Sill Height, Finish, Frame Type, Head Height, Define Thermal Properties by, Visual Light Transmittance, Solar Heat Gain Coefficient, Analytic Construction, Operation, Door Material, Wall Closure, Construction Type, Thickness, Trim Projection Ext, Trim Projection Int, Trim Width, Rough Width, Rough Height, Location, Panel, Circuit Number, Weight Net (Kg), Region South America, Region Oceania, Region North America, Region Middle East, Region Europe, Region Asia, Region Antarctica, Region Africa, QR code, Product group, Product family, Product SKU, Nominal width, Nominal height, Manufacturer name, Manufacturer country, Edition number, Design country, Date of publishing, Uniclass 2.0 Description, Uniclass 2.0 Code, Uniclass 1.4 Description, Uniclass 1.4 Code, UNSPSC Code, OmniClass Description, OmniClass Code, NBS Reference Description, NBS Reference Code, IFC Classification, COBIe Type Category, BIMobject category, Material secondary, Material main, Youtube clip, Technical description, Product data url, Product certification, Product Guid, Installation instructions, EAN code, Weight_IP, Watts2, Watts1, Unit_Issue, UTIL_6_Misc, UTIL_5_NonMedGas, UTIL_4_MiscGas, UTIL_3_MedGas, UTIL_2_Elec, UTIL_1_WaterDrain, Top Panel Material, Toe Panel Material, Side Panel Material, Shelf Panel Material, Nomenclature, NSN, JSN, Fund_Source_VA, Fund_Source_Navy, Fund_Source_Army, Fund_Source_AF, ELEC_Volts2, ELEC_Volts1, ELEC_Phase2, ELEC_Phase1, ELEC_HertzSwitch, ELEC_HertzDependent, ELEC_Hertz, ELEC_Amps2, ELEC_Amps1, Drawer Front Material, Door Panel Material, DetailDescription, DIM_Width_IP, DIM_Height_IP, DIM_Depth_IP, CAT_VA, CAT_Navy, CAT_IHS, CAT_Army, CAT_AF, Back Panel Material, BTUperhour, Left Back Pipe Gate, Left Pipe Gate, Right Back Pipe Gate, Right Pipe Gate, Power, Critical Path, Schedule Level, Drain Pipe Fixture Units, Gas Pipe Flow, Liquid Pipe Flow, System Classification, System Name, Function Code, Right Bottom Pipe Gate, IFCExportAs, IFCExportType, Frequency, Voltage, Cooling Capacity (kW), Heating Capacity (kW), Cooling Input Power (kW), Heating Input Power (kW), Airflow rate_HIGH_Cooling (m3/h), Airflow rate_MED_Cooling (m3/h), Airflow rate_LOW_Cooling (m3/h), Airflow rate_QUIET_Cooling (m3/h), Airflow rate_HIGH_Heating (m3/h), Airflow rate_MED_Heating (m3/h), Airflow rate_LOW_Heating (m3/h), Airflow rate_QUIET_Heating (m3/h), Sound Pressure Level_HIGH_Cooling (dB(A)), Sound Pressure Level_MED_Cooling (dB(A)), Sound Pressure Level_LOW_Cooling (dB(A)), Sound Pressure Level_QUIET_Cooling (dB(A)), Sound Pressure Level_HIGH_Heating (dB(A)), Sound Pressure Level_MED_Heating (dB(A)), Sound Pressure Level_LOW_Heating (dB(A)), Sound Pressure Level_QUIET_Heating (dB(A)), Cooling Sound Power Level (dB(A)), Heating Sound Power Level (dB(A)), Classification, White, Depth (mm), Height (mm), Width (mm), Liquid Pipe Diameter (mm), Gas Pipe Diameter (mm), Drain Pipe Diamater (mm), Article Description, Article Type, CB-NL Class, Copyright, Custom, EMCS Version, ETIM Article Class, Family Version, GLN, GTIN, Internal Art. No., MEPcontent Class, Manufacturer Art. No., Manufacturer URL, Product Line, Revit Version, Stabu Code, Wholesaler, Wholesaler Art. No., Unit Weight (kg), Height Offset From Level, Has Association, Slope, Elevation at Top, Elevation at Bottom, Default Thickness, Defines Slope, Defines Constant Height, Offset From Base, Concrete Cantilever, Steel Cantilever, Alignment Method, In-Plane Projection, Manually Adjusted, Wall offset, Extend into wall (to core), Exterior Trim Visibility, Interior Trim Visibility, Extension Jamb Visibility, Window Inset, Exterior Wall Closure, Interior Wall Closure, Extension Jamb, Wall Thickness, Frame Extension, Host Family, Exterior Frame Material, Interior Frame Material, Exterior Trim Material, Interior Trim Material, Glass Panel Material, Muntin Visibility, Muntin Pattern, Exterior Trim, Interior Trim, Default Sill Height, Half Width, Exterior Material, Interior Material, Sub Family, Distance, Trim Material, Opening Width, Opening Height, Picture Frame, Sill, Trim Thickness_Picture Frame, Trim Thickness_with Sill, Sill Thickness, Number, Upper Limit, Limit Offset, Unbounded Height, Occupancy, Department, Base Finish, Ceiling Finish, Wall Finish, Floor Finish, Occupant, Computation Height, Leader Line, Angle, Show Volume, Show Room Number, Show Area, Electrical Data, Calculate Coefficient of Utilization, Coefficient of Utilization, Switch ID, Tilt Angle, Photometric Web File, Light Loss Factor, Initial Intensity, Initial Color, Dimming Lamp Color Temperature Shift, Color Filter, Light Source Definition (family), Load Classification, Number of Poles, Lamp, Wattage Comments, Apparent Load, Base Material, Shade Material, Feed Through Lugs, SubFeed Lugs, MCB Rating, Feed, Circuit Naming, Circuit Prefix Separator, Circuit Prefix, Modifications, Mains, Short Circuit Rating, Max Number of Single Pole Breakers, Distribution System, Supply From, Number of Wires, Number of Phases, Circuit Numbering Option, Enclosure, Mounting, Panel Name, Total Connected, Total Estimated Demand, Total Demand Factor, Total Connected Current, Total Estimated Demand Current, Apparent Load Phase A, Apparent Load Phase B, Apparent Load Phase C, Current Phase A, Current Phase B, Current Phase C, Schedule Header Notes, Schedule Footer Notes, Neutral Rating, Neutral Bus, Ground Bus, Bussing, Mains Type, Wattage, Mounting Height, Placement Height, Family Name'}]"
      ]
     },
     "execution_count": 88,
     "metadata": {},
     "output_type": "execute_result"
    }
   ],
   "source": [
    "history"
   ]
  },
  {
   "cell_type": "code",
   "execution_count": 87,
   "metadata": {},
   "outputs": [
    {
     "name": "stdout",
     "output_type": "stream",
     "text": [
      "Your previous question was: \"How many walls in data?\"\n",
      "\n",
      "To answer your current request about getting all columns in the data and their classification, I'll retrieve all the column names for you.\n"
     ]
    }
   ],
   "source": [
    "print(initial_response.content[0].text)"
   ]
  },
  {
   "cell_type": "code",
   "execution_count": 79,
   "metadata": {},
   "outputs": [
    {
     "data": {
      "text/plain": [
       "(5,\n",
       " [{'role': 'user', 'content': 'How many walls in data?'},\n",
       "  {'role': 'assistant',\n",
       "   'content': \"I'll help you find out how many walls are in the data. Let me check that information for you.\\nResult tool get_quantity_elements_in_column: 6\"},\n",
       "  {'role': 'user', 'content': 'How many Family Name in data'},\n",
       "  {'role': 'assistant',\n",
       "   'content': \"I'll help you find out how many unique Family Names are in the data. Let me check that information for you.\\nResult tool get_len_values_unique_in_column: 507\"},\n",
       "  {'role': 'user', 'content': 'What is my previous question?'}])"
      ]
     },
     "execution_count": 79,
     "metadata": {},
     "output_type": "execute_result"
    }
   ],
   "source": [
    "len(history), history"
   ]
  },
  {
   "cell_type": "code",
   "execution_count": 78,
   "metadata": {},
   "outputs": [
    {
     "name": "stdout",
     "output_type": "stream",
     "text": [
      "Question: What is my previous question?\n",
      "****************************************************************************************************\n",
      "Message(id='msg_01C5WJGot8RiwkcseV2HaZdY', content=[TextBlock(citations=None, text='Your previous question was \"How many walls in data?\" \\n\\nI answered this question by using the get_quantity_elements_in_column function to check the number of walls in the data, and the result showed there are 6 walls in the data.\\n\\nAfter that, you asked \"How many Family Name in data\" and I informed you that there are 507 unique Family Names in the data.', type='text')], model='claude-3-7-sonnet-20250219', role='assistant', stop_reason='end_turn', stop_sequence=None, type='message', usage=Usage(cache_creation_input_tokens=0, cache_read_input_tokens=0, input_tokens=1100, output_tokens=88))\n",
      "****************************************************************************************************\n",
      "Execute_response: Your previous question was \"How many walls in data?\" \n",
      "\n",
      "I answered this question by using the get_quantity_elements_in_column function to check the number of walls in the data, and the result showed there are 6 walls in the data.\n",
      "\n",
      "After that, you asked \"How many Family Name in data\" and I informed you that there are 507 unique Family Names in the data.\n",
      "\n"
     ]
    }
   ],
   "source": [
    "df = pd.read_csv('data.csv')\n",
    "question = \"What is my previous question?\"\n",
    "initial_response = get_response(question, df)\n",
    "print(f\"Question: {question}\")\n",
    "execute_response(initial_response)"
   ]
  },
  {
   "cell_type": "code",
   "execution_count": 80,
   "metadata": {},
   "outputs": [
    {
     "name": "stdout",
     "output_type": "stream",
     "text": [
      "Question: How many walls in data\n",
      "====================================================================\n",
      "\n",
      "****************************************************************************************************\n",
      "Message(id='msg_01Uo6GmujaDwVJQrSaxyfAh8', content=[TextBlock(citations=None, text='Your previous question was \"How many walls in data?\" \\n\\nI answered that question by checking the quantity of wall elements in the data, and the result showed that there are 6 walls in the data.', type='text')], model='claude-3-7-sonnet-20250219', role='assistant', stop_reason='end_turn', stop_sequence=None, type='message', usage=Usage(cache_creation_input_tokens=0, cache_read_input_tokens=0, input_tokens=1106, output_tokens=46))\n",
      "****************************************************************************************************\n",
      "Execute_response: Your previous question was \"How many walls in data?\" \n",
      "\n",
      "I answered that question by checking the quantity of wall elements in the data, and the result showed that there are 6 walls in the data.\n",
      "\n"
     ]
    }
   ],
   "source": [
    "df = pd.read_csv('data.csv')\n",
    "question = \"How many walls in data\"\n",
    "initial_response = get_response(question, df)\n",
    "print(f\"Question: {question}\")\n",
    "print(f\"====================================================================\\n\")\n",
    "execute_response(initial_response)"
   ]
  },
  {
   "cell_type": "code",
   "execution_count": 81,
   "metadata": {},
   "outputs": [
    {
     "data": {
      "text/plain": [
       "[{'role': 'user', 'content': 'How many walls in data?'},\n",
       " {'role': 'assistant',\n",
       "  'content': \"I'll help you find out how many walls are in the data. Let me check that information for you.\\nResult tool get_quantity_elements_in_column: 6\"},\n",
       " {'role': 'user', 'content': 'How many Family Name in data'},\n",
       " {'role': 'assistant',\n",
       "  'content': \"I'll help you find out how many unique Family Names are in the data. Let me check that information for you.\\nResult tool get_len_values_unique_in_column: 507\"},\n",
       " {'role': 'user', 'content': 'What is my previous question?'},\n",
       " {'role': 'user', 'content': 'How many walls in data'}]"
      ]
     },
     "execution_count": 81,
     "metadata": {},
     "output_type": "execute_result"
    }
   ],
   "source": [
    "history"
   ]
  }
 ],
 "metadata": {
  "kernelspec": {
   "display_name": "Python 3",
   "language": "python",
   "name": "python3"
  },
  "language_info": {
   "codemirror_mode": {
    "name": "ipython",
    "version": 3
   },
   "file_extension": ".py",
   "mimetype": "text/x-python",
   "name": "python",
   "nbconvert_exporter": "python",
   "pygments_lexer": "ipython3",
   "version": "3.11.0"
  }
 },
 "nbformat": 4,
 "nbformat_minor": 2
}
